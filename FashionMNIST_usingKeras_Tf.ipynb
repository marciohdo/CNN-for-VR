{
 "cells": [
  {
   "cell_type": "code",
   "execution_count": 6,
   "metadata": {},
   "outputs": [],
   "source": [
    "import tensorflow as tf\n",
    "mnist = tf.keras.datasets.fashion_mnist"
   ]
  },
  {
   "cell_type": "code",
   "execution_count": 7,
   "metadata": {},
   "outputs": [],
   "source": [
    "(train_Images, train_Labels),(Test_Images,Test_Labels)=mnist.load_data()"
   ]
  },
  {
   "cell_type": "code",
   "execution_count": 10,
   "metadata": {},
   "outputs": [
    {
     "name": "stdout",
     "output_type": "stream",
     "text": [
      "9\n",
      "[[  0   0   0   0   0   0   0   0   0   0   0   0   0   0   0   0   0   0\n",
      "    0   0   0   0   0   0   0   0   0   0]\n",
      " [  0   0   0   0   0   0   0   0   0   0   0   0   0   0   0   0   0   0\n",
      "    0   0   0   0   0   0   0   0   0   0]\n",
      " [  0   0   0   0   0   0   0   0   0   0   0   0   0   0   0   0   0   0\n",
      "    0   0   0   0   0   0   0   0   0   0]\n",
      " [  0   0   0   0   0   0   0   0   0   0   0   0   1   0   0  13  73   0\n",
      "    0   1   4   0   0   0   0   1   1   0]\n",
      " [  0   0   0   0   0   0   0   0   0   0   0   0   3   0  36 136 127  62\n",
      "   54   0   0   0   1   3   4   0   0   3]\n",
      " [  0   0   0   0   0   0   0   0   0   0   0   0   6   0 102 204 176 134\n",
      "  144 123  23   0   0   0   0  12  10   0]\n",
      " [  0   0   0   0   0   0   0   0   0   0   0   0   0   0 155 236 207 178\n",
      "  107 156 161 109  64  23  77 130  72  15]\n",
      " [  0   0   0   0   0   0   0   0   0   0   0   1   0  69 207 223 218 216\n",
      "  216 163 127 121 122 146 141  88 172  66]\n",
      " [  0   0   0   0   0   0   0   0   0   1   1   1   0 200 232 232 233 229\n",
      "  223 223 215 213 164 127 123 196 229   0]\n",
      " [  0   0   0   0   0   0   0   0   0   0   0   0   0 183 225 216 223 228\n",
      "  235 227 224 222 224 221 223 245 173   0]\n",
      " [  0   0   0   0   0   0   0   0   0   0   0   0   0 193 228 218 213 198\n",
      "  180 212 210 211 213 223 220 243 202   0]\n",
      " [  0   0   0   0   0   0   0   0   0   1   3   0  12 219 220 212 218 192\n",
      "  169 227 208 218 224 212 226 197 209  52]\n",
      " [  0   0   0   0   0   0   0   0   0   0   6   0  99 244 222 220 218 203\n",
      "  198 221 215 213 222 220 245 119 167  56]\n",
      " [  0   0   0   0   0   0   0   0   0   4   0   0  55 236 228 230 228 240\n",
      "  232 213 218 223 234 217 217 209  92   0]\n",
      " [  0   0   1   4   6   7   2   0   0   0   0   0 237 226 217 223 222 219\n",
      "  222 221 216 223 229 215 218 255  77   0]\n",
      " [  0   3   0   0   0   0   0   0   0  62 145 204 228 207 213 221 218 208\n",
      "  211 218 224 223 219 215 224 244 159   0]\n",
      " [  0   0   0   0  18  44  82 107 189 228 220 222 217 226 200 205 211 230\n",
      "  224 234 176 188 250 248 233 238 215   0]\n",
      " [  0  57 187 208 224 221 224 208 204 214 208 209 200 159 245 193 206 223\n",
      "  255 255 221 234 221 211 220 232 246   0]\n",
      " [  3 202 228 224 221 211 211 214 205 205 205 220 240  80 150 255 229 221\n",
      "  188 154 191 210 204 209 222 228 225   0]\n",
      " [ 98 233 198 210 222 229 229 234 249 220 194 215 217 241  65  73 106 117\n",
      "  168 219 221 215 217 223 223 224 229  29]\n",
      " [ 75 204 212 204 193 205 211 225 216 185 197 206 198 213 240 195 227 245\n",
      "  239 223 218 212 209 222 220 221 230  67]\n",
      " [ 48 203 183 194 213 197 185 190 194 192 202 214 219 221 220 236 225 216\n",
      "  199 206 186 181 177 172 181 205 206 115]\n",
      " [  0 122 219 193 179 171 183 196 204 210 213 207 211 210 200 196 194 191\n",
      "  195 191 198 192 176 156 167 177 210  92]\n",
      " [  0   0  74 189 212 191 175 172 175 181 185 188 189 188 193 198 204 209\n",
      "  210 210 211 188 188 194 192 216 170   0]\n",
      " [  2   0   0   0  66 200 222 237 239 242 246 243 244 221 220 193 191 179\n",
      "  182 182 181 176 166 168  99  58   0   0]\n",
      " [  0   0   0   0   0   0   0  40  61  44  72  41  35   0   0   0   0   0\n",
      "    0   0   0   0   0   0   0   0   0   0]\n",
      " [  0   0   0   0   0   0   0   0   0   0   0   0   0   0   0   0   0   0\n",
      "    0   0   0   0   0   0   0   0   0   0]\n",
      " [  0   0   0   0   0   0   0   0   0   0   0   0   0   0   0   0   0   0\n",
      "    0   0   0   0   0   0   0   0   0   0]]\n"
     ]
    },
    {
     "data": {
      "image/png": "[encoded data removed]",
      "text/plain": [
       "<Figure size 432x288 with 1 Axes>"
      ]
     },
     "metadata": {
      "needs_background": "light"
     },
     "output_type": "display_data"
    }
   ],
   "source": [
    "import matplotlib.pyplot as plt\n",
    "plt.imshow(train_Images[0])\n",
    "print(train_Labels[0])\n",
    "print(train_Images[0])"
   ]
  },
  {
   "cell_type": "code",
   "execution_count": 11,
   "metadata": {},
   "outputs": [],
   "source": [
    "training_images  = training_images / 255.0\n",
    "test_images = test_images / 255.0"
   ]
  },
  {
   "cell_type": "code",
   "execution_count": 12,
   "metadata": {},
   "outputs": [
    {
     "name": "stderr",
     "output_type": "stream",
     "text": [
      "WARNING: Logging before flag parsing goes to stderr.\n",
      "W0810 00:56:57.439538  7636 deprecation.py:506] From C:\\Users\\Bilal Akbar\\AppData\\Roaming\\Python\\Python37\\site-packages\\tensorflow\\python\\ops\\init_ops.py:1251: calling VarianceScaling.__init__ (from tensorflow.python.ops.init_ops) with dtype is deprecated and will be removed in a future version.\n",
      "Instructions for updating:\n",
      "Call initializer instance with the dtype argument instead of passing it to the constructor\n"
     ]
    }
   ],
   "source": [
    "model= tf.keras.models.Sequential([\n",
    "    tf.keras.layers.Flatten(),\n",
    "    tf.keras.layers.Dense(128, activation=tf.nn.relu), \n",
    "    tf.keras.layers.Dense(10, activation=tf.nn.softmax)\n",
    "])"
   ]
  },
  {
   "cell_type": "code",
   "execution_count": 13,
   "metadata": {},
   "outputs": [],
   "source": [
    "model.compile(optimizer = tf.train.AdamOptimizer(),\n",
    "              loss = 'sparse_categorical_crossentropy',\n",
    "              metrics=['accuracy'])"
   ]
  },
  {
   "cell_type": "code",
   "execution_count": 16,
   "metadata": {},
   "outputs": [
    {
     "name": "stdout",
     "output_type": "stream",
     "text": [
      "Epoch 1/100\n",
      "60000/60000 [==============================] - 2s 35us/sample - loss: 0.2821 - acc: 0.8954\n",
      "Epoch 2/100\n",
      "60000/60000 [==============================] - 3s 43us/sample - loss: 0.2681 - acc: 0.9007\n",
      "Epoch 3/100\n",
      "60000/60000 [==============================] - 4s 61us/sample - loss: 0.2587 - acc: 0.9039\n",
      "Epoch 4/100\n",
      "60000/60000 [==============================] - 4s 60us/sample - loss: 0.2454 - acc: 0.9084\n",
      "Epoch 5/100\n",
      "60000/60000 [==============================] - 4s 64us/sample - loss: 0.2384 - acc: 0.9118\n",
      "Epoch 6/100\n",
      "60000/60000 [==============================] - 3s 56us/sample - loss: 0.2307 - acc: 0.9134\n",
      "Epoch 7/100\n",
      "60000/60000 [==============================] - 3s 56us/sample - loss: 0.2219 - acc: 0.9164\n",
      "Epoch 8/100\n",
      "60000/60000 [==============================] - 3s 56us/sample - loss: 0.2175 - acc: 0.9186\n",
      "Epoch 9/100\n",
      "60000/60000 [==============================] - 3s 56us/sample - loss: 0.2100 - acc: 0.9213\n",
      "Epoch 10/100\n",
      "60000/60000 [==============================] - 3s 54us/sample - loss: 0.2034 - acc: 0.9237\n",
      "Epoch 11/100\n",
      "60000/60000 [==============================] - 3s 56us/sample - loss: 0.1974 - acc: 0.9265\n",
      "Epoch 12/100\n",
      "60000/60000 [==============================] - 3s 57us/sample - loss: 0.1927 - acc: 0.9281\n",
      "Epoch 13/100\n",
      "60000/60000 [==============================] - 3s 57us/sample - loss: 0.1872 - acc: 0.9295\n",
      "Epoch 14/100\n",
      "60000/60000 [==============================] - 4s 66us/sample - loss: 0.1828 - acc: 0.9313\n",
      "Epoch 15/100\n",
      "60000/60000 [==============================] - 4s 73us/sample - loss: 0.1771 - acc: 0.9325\n",
      "Epoch 16/100\n",
      "60000/60000 [==============================] - 4s 62us/sample - loss: 0.1749 - acc: 0.93440s - loss: 0.1747 - acc:\n",
      "Epoch 17/100\n",
      "60000/60000 [==============================] - 4s 59us/sample - loss: 0.1713 - acc: 0.9352\n",
      "Epoch 18/100\n",
      "60000/60000 [==============================] - 4s 59us/sample - loss: 0.1672 - acc: 0.9367\n",
      "Epoch 19/100\n",
      "60000/60000 [==============================] - 4s 61us/sample - loss: 0.1649 - acc: 0.9378\n",
      "Epoch 20/100\n",
      "60000/60000 [==============================] - 4s 60us/sample - loss: 0.1582 - acc: 0.9406\n",
      "Epoch 21/100\n",
      "60000/60000 [==============================] - 4s 61us/sample - loss: 0.1554 - acc: 0.9415\n",
      "Epoch 22/100\n",
      "60000/60000 [==============================] - 4s 61us/sample - loss: 0.1524 - acc: 0.9422\n",
      "Epoch 23/100\n",
      "60000/60000 [==============================] - 4s 60us/sample - loss: 0.1505 - acc: 0.9424\n",
      "Epoch 24/100\n",
      "60000/60000 [==============================] - 4s 60us/sample - loss: 0.1440 - acc: 0.9448\n",
      "Epoch 25/100\n",
      "60000/60000 [==============================] - 4s 61us/sample - loss: 0.1427 - acc: 0.9463\n",
      "Epoch 26/100\n",
      "60000/60000 [==============================] - 4s 62us/sample - loss: 0.1398 - acc: 0.9474\n",
      "Epoch 27/100\n",
      "60000/60000 [==============================] - 4s 61us/sample - loss: 0.1358 - acc: 0.9497\n",
      "Epoch 28/100\n",
      "60000/60000 [==============================] - 4s 59us/sample - loss: 0.1327 - acc: 0.9494\n",
      "Epoch 29/100\n",
      "60000/60000 [==============================] - 4s 61us/sample - loss: 0.1303 - acc: 0.9505\n",
      "Epoch 30/100\n",
      "60000/60000 [==============================] - 4s 63us/sample - loss: 0.1285 - acc: 0.9512\n",
      "Epoch 31/100\n",
      "60000/60000 [==============================] - 4s 71us/sample - loss: 0.1266 - acc: 0.9525\n",
      "Epoch 32/100\n",
      "60000/60000 [==============================] - 4s 63us/sample - loss: 0.1249 - acc: 0.9526\n",
      "Epoch 33/100\n",
      "60000/60000 [==============================] - 4s 62us/sample - loss: 0.1201 - acc: 0.9549\n",
      "Epoch 34/100\n",
      "60000/60000 [==============================] - 4s 66us/sample - loss: 0.1184 - acc: 0.9550\n",
      "Epoch 35/100\n",
      "60000/60000 [==============================] - 4s 71us/sample - loss: 0.1156 - acc: 0.9566\n",
      "Epoch 36/100\n",
      "60000/60000 [==============================] - 5s 88us/sample - loss: 0.1126 - acc: 0.9574\n",
      "Epoch 37/100\n",
      "60000/60000 [==============================] - 5s 80us/sample - loss: 0.1149 - acc: 0.9570\n",
      "Epoch 38/100\n",
      "60000/60000 [==============================] - 4s 69us/sample - loss: 0.1090 - acc: 0.9591\n",
      "Epoch 39/100\n",
      "60000/60000 [==============================] - 5s 76us/sample - loss: 0.1085 - acc: 0.9596\n",
      "Epoch 40/100\n",
      "60000/60000 [==============================] - 4s 63us/sample - loss: 0.1055 - acc: 0.9602\n",
      "Epoch 41/100\n",
      "60000/60000 [==============================] - 4s 65us/sample - loss: 0.1069 - acc: 0.9598\n",
      "Epoch 42/100\n",
      "60000/60000 [==============================] - 4s 61us/sample - loss: 0.1051 - acc: 0.9607\n",
      "Epoch 43/100\n",
      "60000/60000 [==============================] - 4s 62us/sample - loss: 0.0991 - acc: 0.9629\n",
      "Epoch 44/100\n",
      "60000/60000 [==============================] - 4s 60us/sample - loss: 0.1014 - acc: 0.9619\n",
      "Epoch 45/100\n",
      "60000/60000 [==============================] - 4s 65us/sample - loss: 0.1003 - acc: 0.9623\n",
      "Epoch 46/100\n",
      "60000/60000 [==============================] - 4s 65us/sample - loss: 0.0962 - acc: 0.9643\n",
      "Epoch 47/100\n",
      "60000/60000 [==============================] - 4s 66us/sample - loss: 0.0969 - acc: 0.9638\n",
      "Epoch 48/100\n",
      "60000/60000 [==============================] - 4s 62us/sample - loss: 0.0944 - acc: 0.9650\n",
      "Epoch 49/100\n",
      "60000/60000 [==============================] - 4s 65us/sample - loss: 0.0930 - acc: 0.9650\n",
      "Epoch 50/100\n",
      "60000/60000 [==============================] - 4s 63us/sample - loss: 0.0907 - acc: 0.9658\n",
      "Epoch 51/100\n",
      "60000/60000 [==============================] - 4s 64us/sample - loss: 0.0916 - acc: 0.9652\n",
      "Epoch 52/100\n",
      "60000/60000 [==============================] - 4s 64us/sample - loss: 0.0886 - acc: 0.9671\n",
      "Epoch 53/100\n",
      "60000/60000 [==============================] - 4s 64us/sample - loss: 0.0874 - acc: 0.9672\n",
      "Epoch 54/100\n",
      "60000/60000 [==============================] - 4s 66us/sample - loss: 0.0877 - acc: 0.9671\n",
      "Epoch 55/100\n",
      "60000/60000 [==============================] - 4s 65us/sample - loss: 0.0860 - acc: 0.9684\n",
      "Epoch 56/100\n",
      "60000/60000 [==============================] - 4s 63us/sample - loss: 0.0850 - acc: 0.9682\n",
      "Epoch 57/100\n",
      "60000/60000 [==============================] - 4s 65us/sample - loss: 0.0839 - acc: 0.9676\n",
      "Epoch 58/100\n",
      "60000/60000 [==============================] - 4s 65us/sample - loss: 0.0798 - acc: 0.9703\n",
      "Epoch 59/100\n",
      "60000/60000 [==============================] - 4s 66us/sample - loss: 0.0808 - acc: 0.9703\n",
      "Epoch 60/100\n",
      "60000/60000 [==============================] - 4s 67us/sample - loss: 0.0782 - acc: 0.9712\n",
      "Epoch 61/100\n",
      "60000/60000 [==============================] - 4s 72us/sample - loss: 0.0771 - acc: 0.9708\n",
      "Epoch 62/100\n",
      "60000/60000 [==============================] - 4s 65us/sample - loss: 0.0758 - acc: 0.9714\n",
      "Epoch 63/100\n",
      "60000/60000 [==============================] - 4s 64us/sample - loss: 0.0753 - acc: 0.9716\n",
      "Epoch 64/100\n",
      "60000/60000 [==============================] - 4s 65us/sample - loss: 0.0750 - acc: 0.9717\n",
      "Epoch 65/100\n",
      "60000/60000 [==============================] - 4s 65us/sample - loss: 0.0780 - acc: 0.9719\n",
      "Epoch 66/100\n",
      "60000/60000 [==============================] - 4s 66us/sample - loss: 0.0727 - acc: 0.9728\n",
      "Epoch 67/100\n",
      "60000/60000 [==============================] - 4s 66us/sample - loss: 0.0745 - acc: 0.9720\n",
      "Epoch 68/100\n",
      "60000/60000 [==============================] - 4s 65us/sample - loss: 0.0685 - acc: 0.9743\n",
      "Epoch 69/100\n",
      "60000/60000 [==============================] - 4s 66us/sample - loss: 0.0710 - acc: 0.9738\n",
      "Epoch 70/100\n",
      "60000/60000 [==============================] - 4s 66us/sample - loss: 0.0737 - acc: 0.9721\n",
      "Epoch 71/100\n",
      "60000/60000 [==============================] - 4s 68us/sample - loss: 0.0678 - acc: 0.9749\n",
      "Epoch 72/100\n",
      "60000/60000 [==============================] - 4s 60us/sample - loss: 0.0672 - acc: 0.9744\n",
      "Epoch 73/100\n",
      "60000/60000 [==============================] - 3s 55us/sample - loss: 0.0669 - acc: 0.9754\n",
      "Epoch 74/100\n",
      "60000/60000 [==============================] - 3s 57us/sample - loss: 0.0687 - acc: 0.9743\n",
      "Epoch 75/100\n",
      "60000/60000 [==============================] - 3s 55us/sample - loss: 0.0632 - acc: 0.9759\n",
      "Epoch 76/100\n",
      "60000/60000 [==============================] - 3s 58us/sample - loss: 0.0648 - acc: 0.9758\n",
      "Epoch 77/100\n",
      "60000/60000 [==============================] - 4s 60us/sample - loss: 0.0626 - acc: 0.9765\n",
      "Epoch 78/100\n",
      "60000/60000 [==============================] - 4s 59us/sample - loss: 0.0626 - acc: 0.9766\n",
      "Epoch 79/100\n"
     ]
    },
    {
     "name": "stdout",
     "output_type": "stream",
     "text": [
      "60000/60000 [==============================] - 3s 56us/sample - loss: 0.0625 - acc: 0.9768\n",
      "Epoch 80/100\n",
      "60000/60000 [==============================] - 3s 54us/sample - loss: 0.0612 - acc: 0.9773\n",
      "Epoch 81/100\n",
      "60000/60000 [==============================] - 3s 55us/sample - loss: 0.0599 - acc: 0.9777\n",
      "Epoch 82/100\n",
      "60000/60000 [==============================] - 4s 63us/sample - loss: 0.0618 - acc: 0.9773\n",
      "Epoch 83/100\n",
      "60000/60000 [==============================] - 4s 65us/sample - loss: 0.0615 - acc: 0.9771\n",
      "Epoch 84/100\n",
      "60000/60000 [==============================] - 4s 61us/sample - loss: 0.0599 - acc: 0.9779\n",
      "Epoch 85/100\n",
      "60000/60000 [==============================] - 4s 59us/sample - loss: 0.0561 - acc: 0.9786\n",
      "Epoch 86/100\n",
      "60000/60000 [==============================] - 4s 63us/sample - loss: 0.0587 - acc: 0.9779\n",
      "Epoch 87/100\n",
      "60000/60000 [==============================] - 4s 73us/sample - loss: 0.0554 - acc: 0.9788\n",
      "Epoch 88/100\n",
      "60000/60000 [==============================] - 3s 57us/sample - loss: 0.0584 - acc: 0.9787\n",
      "Epoch 89/100\n",
      "60000/60000 [==============================] - 3s 54us/sample - loss: 0.0576 - acc: 0.9790\n",
      "Epoch 90/100\n",
      "60000/60000 [==============================] - 3s 55us/sample - loss: 0.0552 - acc: 0.9796\n",
      "Epoch 91/100\n",
      "60000/60000 [==============================] - 4s 62us/sample - loss: 0.0547 - acc: 0.9796\n",
      "Epoch 92/100\n",
      "60000/60000 [==============================] - 3s 57us/sample - loss: 0.0515 - acc: 0.9809\n",
      "Epoch 93/100\n",
      "60000/60000 [==============================] - 4s 60us/sample - loss: 0.0531 - acc: 0.9803\n",
      "Epoch 94/100\n",
      "60000/60000 [==============================] - 4s 68us/sample - loss: 0.0547 - acc: 0.9803\n",
      "Epoch 95/100\n",
      "60000/60000 [==============================] - 4s 60us/sample - loss: 0.0512 - acc: 0.9805\n",
      "Epoch 96/100\n",
      "60000/60000 [==============================] - 4s 62us/sample - loss: 0.0561 - acc: 0.9791\n",
      "Epoch 97/100\n",
      "60000/60000 [==============================] - 4s 62us/sample - loss: 0.0495 - acc: 0.9815\n",
      "Epoch 98/100\n",
      "60000/60000 [==============================] - 4s 61us/sample - loss: 0.0496 - acc: 0.9820\n",
      "Epoch 99/100\n",
      "60000/60000 [==============================] - 4s 61us/sample - loss: 0.0517 - acc: 0.9807\n",
      "Epoch 100/100\n",
      "60000/60000 [==============================] - 4s 62us/sample - loss: 0.0483 - acc: 0.9819\n"
     ]
    },
    {
     "data": {
      "text/plain": [
       "<tensorflow.python.keras.callbacks.History at 0x1fcd0a53748>"
      ]
     },
     "execution_count": 16,
     "metadata": {},
     "output_type": "execute_result"
    }
   ],
   "source": [
    "model.fit(training_images, training_labels, epochs=100)"
   ]
  },
  {
   "cell_type": "code",
   "execution_count": 17,
   "metadata": {},
   "outputs": [
    {
     "name": "stdout",
     "output_type": "stream",
     "text": [
      "10000/10000 [==============================] - 0s 23us/sample - loss: 0.8898 - acc: 0.8855\n"
     ]
    },
    {
     "data": {
      "text/plain": [
       "[0.8897627878867089, 0.8855]"
      ]
     },
     "execution_count": 17,
     "metadata": {},
     "output_type": "execute_result"
    }
   ],
   "source": [
    "model.evaluate(test_images, test_labels)"
   ]
  },
  {
   "cell_type": "code",
   "execution_count": 25,
   "metadata": {},
   "outputs": [],
   "source": [
    "image_Index=7778"
   ]
  },
  {
   "cell_type": "code",
   "execution_count": 27,
   "metadata": {},
   "outputs": [
    {
     "data": {
      "text/plain": [
       "<matplotlib.image.AxesImage at 0x1fcf0a55cc8>"
      ]
     },
     "execution_count": 27,
     "metadata": {},
     "output_type": "execute_result"
    },
    {
     "data": {
      "image/png": "[encoded data removed]",
      "text/plain": [
       "<Figure size 432x288 with 1 Axes>"
      ]
     },
     "metadata": {
      "needs_background": "light"
     },
     "output_type": "display_data"
    }
   ],
   "source": [
    "plt.imshow(Test_Images[image_Index].reshape(28, 28),cmap='Greys')\n"
   ]
  },
  {
   "cell_type": "code",
   "execution_count": 28,
   "metadata": {},
   "outputs": [],
   "source": [
    "pred = model.predict(Test_Images[image_Index].reshape(1, 28 , 28 ,1))\n"
   ]
  },
  {
   "cell_type": "code",
   "execution_count": 29,
   "metadata": {},
   "outputs": [
    {
     "name": "stdout",
     "output_type": "stream",
     "text": [
      "0\n"
     ]
    }
   ],
   "source": [
    "print(pred.argmax())\n"
   ]
  },
  {
   "cell_type": "code",
   "execution_count": 33,
   "metadata": {},
   "outputs": [
    {
     "name": "stdout",
     "output_type": "stream",
     "text": [
      "[1.7469834e-10 0.0000000e+00 1.0000000e+00 2.3260041e-20 1.1272211e-10\n",
      " 6.7744464e-24 4.6313350e-10 2.8370754e-31 3.8707771e-21 1.5879527e-20]\n"
     ]
    }
   ],
   "source": [
    "classifications = model.predict(test_images)\n",
    "print(classifications[1])"
   ]
  },
  {
   "cell_type": "code",
   "execution_count": 35,
   "metadata": {},
   "outputs": [
    {
     "name": "stdout",
     "output_type": "stream",
     "text": [
      "1\n"
     ]
    }
   ],
   "source": [
    "print(test_labels[2])"
   ]
  },
  {
   "cell_type": "code",
   "execution_count": 32,
   "metadata": {},
   "outputs": [
    {
     "name": "stdout",
     "output_type": "stream",
     "text": [
      "0\n"
     ]
    }
   ],
   "source": [
    "print(pred.argmax())"
   ]
  },
  {
   "cell_type": "code",
   "execution_count": 36,
   "metadata": {},
   "outputs": [
    {
     "name": "stdout",
     "output_type": "stream",
     "text": [
      "1.14.0\n",
      "Epoch 1/5\n",
      "60000/60000 [==============================] - 14s 233us/sample - loss: 0.1818\n",
      "Epoch 2/5\n",
      "60000/60000 [==============================] - 14s 229us/sample - loss: 0.0759\n",
      "Epoch 3/5\n",
      "60000/60000 [==============================] - 14s 231us/sample - loss: 0.0489\n",
      "Epoch 4/5\n",
      "60000/60000 [==============================] - 14s 237us/sample - loss: 0.0339\n",
      "Epoch 5/5\n",
      "60000/60000 [==============================] - 14s 237us/sample - loss: 0.0271\n",
      "10000/10000 [==============================] - 1s 107us/sample - loss: 0.0719\n",
      "[1.7687077e-12 7.4819199e-11 1.0875592e-09 2.1681577e-08 4.5250139e-15\n",
      " 3.1588426e-11 2.8887652e-15 1.0000000e+00 1.2850430e-10 2.0444155e-09]\n",
      "7\n"
     ]
    }
   ],
   "source": [
    "import tensorflow as tf\n",
    "print(tf.__version__)\n",
    "\n",
    "mnist = tf.keras.datasets.mnist\n",
    "\n",
    "(training_images, training_labels) ,  (test_images, test_labels) = mnist.load_data()\n",
    "\n",
    "training_images = training_images/255.0\n",
    "test_images = test_images/255.0\n",
    "\n",
    "model = tf.keras.models.Sequential([tf.keras.layers.Flatten(),\n",
    "                                    tf.keras.layers.Dense(1024, activation=tf.nn.relu),\n",
    "                                    tf.keras.layers.Dense(10, activation=tf.nn.softmax)])\n",
    "\n",
    "model.compile(optimizer = 'adam',\n",
    "              loss = 'sparse_categorical_crossentropy')\n",
    "\n",
    "model.fit(training_images, training_labels, epochs=5)\n",
    "\n",
    "model.evaluate(test_images, test_labels)\n",
    "\n",
    "classifications = model.predict(test_images)\n",
    "\n",
    "print(classifications[0])\n"
   ]
  },
  {
   "cell_type": "code",
   "execution_count": 37,
   "metadata": {},
   "outputs": [
    {
     "name": "stdout",
     "output_type": "stream",
     "text": [
      "1\n"
     ]
    }
   ],
   "source": [
    "print(test_labels[2])"
   ]
  },
  {
   "cell_type": "code",
   "execution_count": 40,
   "metadata": {
    "scrolled": true
   },
   "outputs": [
    {
     "name": "stdout",
     "output_type": "stream",
     "text": [
      "1.14.0\n",
      "Epoch 1/5\n",
      "60000/60000 [==============================] - 4s 75us/sample - loss: 0.3042\n",
      "Epoch 2/5\n",
      "60000/60000 [==============================] - 3s 57us/sample - loss: 0.1414\n",
      "Epoch 3/5\n",
      "60000/60000 [==============================] - 4s 67us/sample - loss: 0.1021\n",
      "Epoch 4/5\n",
      "60000/60000 [==============================] - 4s 74us/sample - loss: 0.0799\n",
      "Epoch 5/5\n",
      "60000/60000 [==============================] - 4s 64us/sample - loss: 0.0660\n",
      "10000/10000 [==============================] - 0s 38us/sample - loss: 0.0826\n",
      "[2.3542728e-07 2.7839999e-09 8.9909518e-05 7.8162330e-04 1.5181160e-09\n",
      " 3.6226331e-07 5.1106650e-13 9.9907911e-01 8.3698451e-06 4.0403567e-05]\n",
      "7\n"
     ]
    }
   ],
   "source": [
    "import tensorflow as tf\n",
    "print(tf.__version__)\n",
    "\n",
    "mnist = tf.keras.datasets.mnist\n",
    "\n",
    "(training_images, training_labels) ,  (test_images, test_labels) = mnist.load_data()\n",
    "\n",
    "training_images = training_images/255.0\n",
    "test_images = test_images/255.0\n",
    "\n",
    "model = tf.keras.models.Sequential([tf.keras.layers.Flatten(),\n",
    "                                    tf.keras.layers.Dense(64, activation=tf.nn.relu),\n",
    "                                    tf.keras.layers.Dense(10, activation=tf.nn.softmax)])\n",
    "\n",
    "model.compile(optimizer = 'adam',\n",
    "              loss = 'sparse_categorical_crossentropy')\n",
    "\n",
    "model.fit(training_images, training_labels, epochs=5)\n",
    "\n",
    "model.evaluate(test_images, test_labels)\n",
    "\n",
    "classifications = model.predict(test_images)\n",
    "\n",
    "print(classifications[0])\n",
    "print(test_labels[0])"
   ]
  },
  {
   "cell_type": "code",
   "execution_count": 42,
   "metadata": {},
   "outputs": [
    {
     "name": "stdout",
     "output_type": "stream",
     "text": [
      "1.14.0\n",
      "Epoch 1/100\n",
      "60000/60000 [==============================] - 14s 235us/sample - loss: 0.4703 - acc: 0.8321\n",
      "Epoch 2/100\n",
      "60000/60000 [==============================] - 14s 238us/sample - loss: 0.3591 - acc: 0.8672\n",
      "Epoch 3/100\n",
      "60000/60000 [==============================] - 14s 236us/sample - loss: 0.3207 - acc: 0.8819\n",
      "Epoch 4/100\n",
      "60000/60000 [==============================] - 14s 235us/sample - loss: 0.2991 - acc: 0.8891\n",
      "Epoch 5/100\n",
      "60000/60000 [==============================] - 16s 260us/sample - loss: 0.2775 - acc: 0.8958\n",
      "Epoch 6/100\n",
      "60000/60000 [==============================] - 15s 253us/sample - loss: 0.2628 - acc: 0.9022\n",
      "Epoch 7/100\n",
      "60000/60000 [==============================] - 15s 257us/sample - loss: 0.2499 - acc: 0.9069\n",
      "Epoch 8/100\n",
      "60000/60000 [==============================] - 15s 252us/sample - loss: 0.2393 - acc: 0.9101\n",
      "Epoch 9/100\n",
      "60000/60000 [==============================] - 15s 252us/sample - loss: 0.2291 - acc: 0.9146\n",
      "Epoch 10/100\n",
      "60000/60000 [==============================] - 15s 253us/sample - loss: 0.2192 - acc: 0.9168\n",
      "Epoch 11/100\n",
      "60000/60000 [==============================] - 14s 240us/sample - loss: 0.2107 - acc: 0.9211\n",
      "Epoch 12/100\n",
      "60000/60000 [==============================] - 14s 241us/sample - loss: 0.2049 - acc: 0.9228\n",
      "Epoch 13/100\n",
      "60000/60000 [==============================] - 15s 243us/sample - loss: 0.1972 - acc: 0.9261\n",
      "Epoch 14/100\n",
      "60000/60000 [==============================] - 15s 245us/sample - loss: 0.1905 - acc: 0.9276\n",
      "Epoch 15/100\n",
      "60000/60000 [==============================] - 14s 240us/sample - loss: 0.1837 - acc: 0.9310\n",
      "Epoch 16/100\n",
      "60000/60000 [==============================] - 15s 247us/sample - loss: 0.1775 - acc: 0.9334\n",
      "Epoch 17/100\n",
      "60000/60000 [==============================] - 14s 240us/sample - loss: 0.1742 - acc: 0.9354\n",
      "Epoch 18/100\n",
      "60000/60000 [==============================] - 16s 270us/sample - loss: 0.1687 - acc: 0.9366\n",
      "Epoch 19/100\n",
      "60000/60000 [==============================] - 16s 267us/sample - loss: 0.1638 - acc: 0.9382\n",
      "Epoch 20/100\n",
      "60000/60000 [==============================] - 17s 286us/sample - loss: 0.1592 - acc: 0.9403\n",
      "Epoch 21/100\n",
      "60000/60000 [==============================] - 16s 267us/sample - loss: 0.1524 - acc: 0.9427\n",
      "Epoch 22/100\n",
      "60000/60000 [==============================] - 16s 266us/sample - loss: 0.1486 - acc: 0.9452\n",
      "Epoch 23/100\n",
      "60000/60000 [==============================] - 16s 265us/sample - loss: 0.1431 - acc: 0.9457\n",
      "Epoch 24/100\n",
      "60000/60000 [==============================] - 16s 266us/sample - loss: 0.1405 - acc: 0.9469\n",
      "Epoch 25/100\n",
      "60000/60000 [==============================] - 16s 273us/sample - loss: 0.1345 - acc: 0.9509\n",
      "Epoch 26/100\n",
      "60000/60000 [==============================] - 16s 271us/sample - loss: 0.1348 - acc: 0.9496\n",
      "Epoch 27/100\n",
      "60000/60000 [==============================] - 16s 268us/sample - loss: 0.1293 - acc: 0.9519\n",
      "Epoch 28/100\n",
      "60000/60000 [==============================] - 18s 296us/sample - loss: 0.1286 - acc: 0.9516\n",
      "Epoch 29/100\n",
      "60000/60000 [==============================] - 18s 295us/sample - loss: 0.1221 - acc: 0.9543\n",
      "Epoch 30/100\n",
      "60000/60000 [==============================] - 16s 268us/sample - loss: 0.1211 - acc: 0.9546\n",
      "Epoch 31/100\n",
      "60000/60000 [==============================] - 17s 277us/sample - loss: 0.1173 - acc: 0.9556\n",
      "Epoch 32/100\n",
      "60000/60000 [==============================] - 16s 261us/sample - loss: 0.1149 - acc: 0.9570\n",
      "Epoch 33/100\n",
      "60000/60000 [==============================] - 15s 250us/sample - loss: 0.1126 - acc: 0.9574\n",
      "Epoch 34/100\n",
      "60000/60000 [==============================] - 15s 242us/sample - loss: 0.1082 - acc: 0.9585\n",
      "Epoch 35/100\n",
      "60000/60000 [==============================] - 15s 245us/sample - loss: 0.1093 - acc: 0.9589\n",
      "Epoch 36/100\n",
      "60000/60000 [==============================] - 15s 243us/sample - loss: 0.1068 - acc: 0.9592\n",
      "Epoch 37/100\n",
      "60000/60000 [==============================] - 14s 240us/sample - loss: 0.1005 - acc: 0.9620\n",
      "Epoch 38/100\n",
      "60000/60000 [==============================] - 14s 238us/sample - loss: 0.1042 - acc: 0.9600\n",
      "Epoch 39/100\n",
      "59904/60000 [============================>.] - ETA: 0s - loss: 0.0973 - acc: 0.9639\n",
      "Reached 90% accuracy so cancelling training!\n",
      "60000/60000 [==============================] - 14s 239us/sample - loss: 0.0974 - acc: 0.9639\n"
     ]
    },
    {
     "data": {
      "text/plain": [
       "<tensorflow.python.keras.callbacks.History at 0x1fc8022fdc8>"
      ]
     },
     "execution_count": 42,
     "metadata": {},
     "output_type": "execute_result"
    }
   ],
   "source": [
    "import tensorflow as tf\n",
    "print(tf.__version__)\n",
    "\n",
    "class myCallback(tf.keras.callbacks.Callback):\n",
    "  def on_epoch_end(self, epoch, logs={}):\n",
    "    if(logs.get('loss')<0.1):\n",
    "      print(\"\\nReached 90% accuracy so cancelling training!\")\n",
    "      self.model.stop_training = True\n",
    "\n",
    "callbacks = myCallback()\n",
    "mnist = tf.keras.datasets.fashion_mnist\n",
    "(training_images, training_labels), (test_images, test_labels) = mnist.load_data()\n",
    "training_images=training_images/255.0\n",
    "test_images=test_images/255.0\n",
    "model = tf.keras.models.Sequential([\n",
    "  tf.keras.layers.Flatten(),\n",
    "  tf.keras.layers.Dense(1024, activation=tf.nn.relu),\n",
    "  tf.keras.layers.Dense(10, activation=tf.nn.softmax)\n",
    "])\n",
    "model.compile(optimizer='adam', loss='sparse_categorical_crossentropy',  metrics=['accuracy'])\n",
    "model.fit(training_images, training_labels, epochs=100, callbacks=[callbacks])\n"
   ]
  },
  {
   "cell_type": "code",
   "execution_count": 43,
   "metadata": {},
   "outputs": [
    {
     "name": "stdout",
     "output_type": "stream",
     "text": [
      "Epoch 1/10\n",
      "60000/60000 [==============================] - 8s 139us/sample - loss: 0.2023 - acc: 0.9396\n",
      "Epoch 2/10\n",
      "60000/60000 [==============================] - 8s 131us/sample - loss: 0.0807 - acc: 0.9752\n",
      "Epoch 3/10\n",
      "60000/60000 [==============================] - 8s 135us/sample - loss: 0.0521 - acc: 0.9840\n",
      "Epoch 4/10\n",
      "60000/60000 [==============================] - 9s 142us/sample - loss: 0.0367 - acc: 0.9888\n",
      "Epoch 5/10\n",
      "59872/60000 [============================>.] - ETA: 0s - loss: 0.0258 - acc: 0.9915\n",
      "Reached 99% accuracy so cancelling training!\n",
      "60000/60000 [==============================] - 8s 135us/sample - loss: 0.0260 - acc: 0.9915\n"
     ]
    },
    {
     "data": {
      "text/plain": [
       "<tensorflow.python.keras.callbacks.History at 0x1fc81a6f388>"
      ]
     },
     "execution_count": 43,
     "metadata": {},
     "output_type": "execute_result"
    }
   ],
   "source": [
    "import tensorflow as tf\n",
    "\n",
    "class myCallback(tf.keras.callbacks.Callback):\n",
    "  def on_epoch_end(self, epoch, logs={}):\n",
    "    if(logs.get('acc')>0.99):\n",
    "      print(\"\\nReached 99% accuracy so cancelling training!\")\n",
    "      self.model.stop_training = True\n",
    "\n",
    "mnist = tf.keras.datasets.mnist\n",
    "\n",
    "(x_train, y_train),(x_test, y_test) = mnist.load_data()\n",
    "x_train, x_test = x_train / 255.0, x_test / 255.0\n",
    "\n",
    "callbacks = myCallback()\n",
    "\n",
    "model = tf.keras.models.Sequential([\n",
    "  tf.keras.layers.Flatten(input_shape=(28, 28)),\n",
    "  tf.keras.layers.Dense(512, activation=tf.nn.relu),\n",
    "  tf.keras.layers.Dense(10, activation=tf.nn.softmax)\n",
    "])\n",
    "model.compile(optimizer='adam',\n",
    "              loss='sparse_categorical_crossentropy',\n",
    "              metrics=['accuracy'])\n",
    "\n",
    "model.fit(x_train, y_train, epochs=10, callbacks=[callbacks])"
   ]
  },
  {
   "cell_type": "code",
   "execution_count": 45,
   "metadata": {},
   "outputs": [
    {
     "name": "stdout",
     "output_type": "stream",
     "text": [
      "1.14.0\n",
      "Model: \"sequential_9\"\n",
      "_________________________________________________________________\n",
      "Layer (type)                 Output Shape              Param #   \n",
      "=================================================================\n",
      "conv2d_2 (Conv2D)            (None, 26, 26, 64)        640       \n",
      "_________________________________________________________________\n",
      "max_pooling2d_2 (MaxPooling2 (None, 13, 13, 64)        0         \n",
      "_________________________________________________________________\n",
      "conv2d_3 (Conv2D)            (None, 11, 11, 64)        36928     \n",
      "_________________________________________________________________\n",
      "max_pooling2d_3 (MaxPooling2 (None, 5, 5, 64)          0         \n",
      "_________________________________________________________________\n",
      "flatten_9 (Flatten)          (None, 1600)              0         \n",
      "_________________________________________________________________\n",
      "dense_18 (Dense)             (None, 128)               204928    \n",
      "_________________________________________________________________\n",
      "dense_19 (Dense)             (None, 10)                1290      \n",
      "=================================================================\n",
      "Total params: 243,786\n",
      "Trainable params: 243,786\n",
      "Non-trainable params: 0\n",
      "_________________________________________________________________\n",
      "Epoch 1/10\n",
      "60000/60000 [==============================] - 87s 1ms/sample - loss: 0.4339 - acc: 0.8429\n",
      "Epoch 2/10\n",
      "60000/60000 [==============================] - 102s 2ms/sample - loss: 0.2919 - acc: 0.8943\n",
      "Epoch 3/10\n",
      "60000/60000 [==============================] - 97s 2ms/sample - loss: 0.2446 - acc: 0.90890s - loss: 0.2\n",
      "Epoch 4/10\n",
      "60000/60000 [==============================] - 100s 2ms/sample - loss: 0.2133 - acc: 0.9200\n",
      "Epoch 5/10\n",
      "60000/60000 [==============================] - 96s 2ms/sample - loss: 0.1862 - acc: 0.9296\n",
      "Epoch 6/10\n",
      "60000/60000 [==============================] - 97s 2ms/sample - loss: 0.1624 - acc: 0.9391\n",
      "Epoch 7/10\n",
      "60000/60000 [==============================] - 96s 2ms/sample - loss: 0.1438 - acc: 0.9464\n",
      "Epoch 8/10\n",
      "60000/60000 [==============================] - 93s 2ms/sample - loss: 0.1234 - acc: 0.9531\n",
      "Epoch 9/10\n",
      "60000/60000 [==============================] - 94s 2ms/sample - loss: 0.1099 - acc: 0.9590\n",
      "Epoch 10/10\n",
      "60000/60000 [==============================] - 96s 2ms/sample - loss: 0.0966 - acc: 0.9633\n",
      "10000/10000 [==============================] - 4s 379us/sample - loss: 0.2959 - acc: 0.9120\n"
     ]
    }
   ],
   "source": [
    "import tensorflow as tf\n",
    "print(tf.__version__)\n",
    "\n",
    "mnist = tf.keras.datasets.fashion_mnist\n",
    "(training_images, training_labels), (test_images, test_labels) = mnist.load_data()\n",
    "\n",
    "training_images=training_images.reshape(60000, 28, 28, 1)\n",
    "training_images=training_images / 255.0\n",
    "\n",
    "test_images = test_images.reshape(10000, 28, 28, 1)\n",
    "test_images=test_images/255.0\n",
    "\n",
    "model = tf.keras.models.Sequential([\n",
    "  tf.keras.layers.Conv2D(64, (3,3), activation='relu', input_shape=(28, 28, 1)),\n",
    "  tf.keras.layers.MaxPooling2D(2, 2),\n",
    "  tf.keras.layers.Conv2D(64, (3,3), activation='relu'),\n",
    "  tf.keras.layers.MaxPooling2D(2,2),\n",
    "  tf.keras.layers.Flatten(),\n",
    "  tf.keras.layers.Dense(128, activation='relu'),\n",
    "  tf.keras.layers.Dense(10, activation='softmax')\n",
    "])\n",
    "\n",
    "model.compile(optimizer='adam', loss='sparse_categorical_crossentropy', metrics=['accuracy'])\n",
    "model.summary()\n",
    "\n",
    "model.fit(training_images, training_labels, epochs=10)\n",
    "test_loss = model.evaluate(test_images, test_labels)"
   ]
  },
  {
   "cell_type": "code",
   "execution_count": 46,
   "metadata": {},
   "outputs": [
    {
     "name": "stdout",
     "output_type": "stream",
     "text": [
      "1.14.0\n",
      "Model: \"sequential_10\"\n",
      "_________________________________________________________________\n",
      "Layer (type)                 Output Shape              Param #   \n",
      "=================================================================\n",
      "conv2d_4 (Conv2D)            (None, 26, 26, 32)        320       \n",
      "_________________________________________________________________\n",
      "max_pooling2d_4 (MaxPooling2 (None, 13, 13, 32)        0         \n",
      "_________________________________________________________________\n",
      "flatten_10 (Flatten)         (None, 5408)              0         \n",
      "_________________________________________________________________\n",
      "dense_20 (Dense)             (None, 128)               692352    \n",
      "_________________________________________________________________\n",
      "dense_21 (Dense)             (None, 10)                1290      \n",
      "=================================================================\n",
      "Total params: 693,962\n",
      "Trainable params: 693,962\n",
      "Non-trainable params: 0\n",
      "_________________________________________________________________\n",
      "Epoch 1/5\n",
      "60000/60000 [==============================] - 39s 655us/sample - loss: 0.4075 - acc: 0.8548\n",
      "Epoch 2/5\n",
      "60000/60000 [==============================] - 38s 641us/sample - loss: 0.2777 - acc: 0.9003 - loss: 0.2775 - acc: \n",
      "Epoch 3/5\n",
      "60000/60000 [==============================] - 39s 649us/sample - loss: 0.2325 - acc: 0.9146\n",
      "Epoch 4/5\n",
      "60000/60000 [==============================] - 43s 711us/sample - loss: 0.1996 - acc: 0.9265\n",
      "Epoch 5/5\n",
      "60000/60000 [==============================] - 41s 676us/sample - loss: 0.1725 - acc: 0.9355\n",
      "10000/10000 [==============================] - 2s 200us/sample - loss: 0.2471 - acc: 0.9131\n"
     ]
    }
   ],
   "source": [
    "\n",
    "import tensorflow as tf\n",
    "print(tf.__version__)\n",
    "mnist = tf.keras.datasets.fashion_mnist\n",
    "(training_images, training_labels), (test_images, test_labels) = mnist.load_data()\n",
    "training_images=training_images.reshape(60000, 28, 28, 1)\n",
    "training_images=training_images / 255.0\n",
    "test_images = test_images.reshape(10000, 28, 28, 1)\n",
    "test_images=test_images/255.0\n",
    "model = tf.keras.models.Sequential([\n",
    "  tf.keras.layers.Conv2D(32, (3,3), activation='relu', input_shape=(28, 28, 1)),\n",
    "  tf.keras.layers.MaxPooling2D(2, 2),\n",
    "\n",
    "  tf.keras.layers.Flatten(),\n",
    "  tf.keras.layers.Dense(128, activation='relu'),\n",
    "  tf.keras.layers.Dense(10, activation='softmax')\n",
    "])\n",
    "model.compile(optimizer='adam', loss='sparse_categorical_crossentropy', metrics=['accuracy'])\n",
    "model.summary()\n",
    "model.fit(training_images, training_labels, epochs=5)\n",
    "test_loss = model.evaluate(test_images, test_labels)"
   ]
  },
  {
   "cell_type": "code",
   "execution_count": 47,
   "metadata": {},
   "outputs": [
    {
     "ename": "IndexError",
     "evalue": "too many indices for array",
     "output_type": "error",
     "traceback": [
      "\u001b[1;31m---------------------------------------------------------------------------\u001b[0m",
      "\u001b[1;31mIndexError\u001b[0m                                Traceback (most recent call last)",
      "\u001b[1;32m<ipython-input-47-85a0b049b91e>\u001b[0m in \u001b[0;36m<module>\u001b[1;34m\u001b[0m\n\u001b[0;32m     10\u001b[0m \u001b[1;32mfor\u001b[0m \u001b[0mx\u001b[0m \u001b[1;32min\u001b[0m \u001b[0mrange\u001b[0m\u001b[1;33m(\u001b[0m\u001b[1;36m0\u001b[0m\u001b[1;33m,\u001b[0m\u001b[1;36m4\u001b[0m\u001b[1;33m)\u001b[0m\u001b[1;33m:\u001b[0m\u001b[1;33m\u001b[0m\u001b[1;33m\u001b[0m\u001b[0m\n\u001b[0;32m     11\u001b[0m   \u001b[0mf1\u001b[0m \u001b[1;33m=\u001b[0m \u001b[0mactivation_model\u001b[0m\u001b[1;33m.\u001b[0m\u001b[0mpredict\u001b[0m\u001b[1;33m(\u001b[0m\u001b[0mtest_images\u001b[0m\u001b[1;33m[\u001b[0m\u001b[0mFIRST_IMAGE\u001b[0m\u001b[1;33m]\u001b[0m\u001b[1;33m.\u001b[0m\u001b[0mreshape\u001b[0m\u001b[1;33m(\u001b[0m\u001b[1;36m1\u001b[0m\u001b[1;33m,\u001b[0m \u001b[1;36m28\u001b[0m\u001b[1;33m,\u001b[0m \u001b[1;36m28\u001b[0m\u001b[1;33m,\u001b[0m \u001b[1;36m1\u001b[0m\u001b[1;33m)\u001b[0m\u001b[1;33m)\u001b[0m\u001b[1;33m[\u001b[0m\u001b[0mx\u001b[0m\u001b[1;33m]\u001b[0m\u001b[1;33m\u001b[0m\u001b[1;33m\u001b[0m\u001b[0m\n\u001b[1;32m---> 12\u001b[1;33m   \u001b[0maxarr\u001b[0m\u001b[1;33m[\u001b[0m\u001b[1;36m0\u001b[0m\u001b[1;33m,\u001b[0m\u001b[0mx\u001b[0m\u001b[1;33m]\u001b[0m\u001b[1;33m.\u001b[0m\u001b[0mimshow\u001b[0m\u001b[1;33m(\u001b[0m\u001b[0mf1\u001b[0m\u001b[1;33m[\u001b[0m\u001b[1;36m0\u001b[0m\u001b[1;33m,\u001b[0m \u001b[1;33m:\u001b[0m \u001b[1;33m,\u001b[0m \u001b[1;33m:\u001b[0m\u001b[1;33m,\u001b[0m \u001b[0mCONVOLUTION_NUMBER\u001b[0m\u001b[1;33m]\u001b[0m\u001b[1;33m,\u001b[0m \u001b[0mcmap\u001b[0m\u001b[1;33m=\u001b[0m\u001b[1;34m'inferno'\u001b[0m\u001b[1;33m)\u001b[0m\u001b[1;33m\u001b[0m\u001b[1;33m\u001b[0m\u001b[0m\n\u001b[0m\u001b[0;32m     13\u001b[0m   \u001b[0maxarr\u001b[0m\u001b[1;33m[\u001b[0m\u001b[1;36m0\u001b[0m\u001b[1;33m,\u001b[0m\u001b[0mx\u001b[0m\u001b[1;33m]\u001b[0m\u001b[1;33m.\u001b[0m\u001b[0mgrid\u001b[0m\u001b[1;33m(\u001b[0m\u001b[1;32mFalse\u001b[0m\u001b[1;33m)\u001b[0m\u001b[1;33m\u001b[0m\u001b[1;33m\u001b[0m\u001b[0m\n\u001b[0;32m     14\u001b[0m   \u001b[0mf2\u001b[0m \u001b[1;33m=\u001b[0m \u001b[0mactivation_model\u001b[0m\u001b[1;33m.\u001b[0m\u001b[0mpredict\u001b[0m\u001b[1;33m(\u001b[0m\u001b[0mtest_images\u001b[0m\u001b[1;33m[\u001b[0m\u001b[0mSECOND_IMAGE\u001b[0m\u001b[1;33m]\u001b[0m\u001b[1;33m.\u001b[0m\u001b[0mreshape\u001b[0m\u001b[1;33m(\u001b[0m\u001b[1;36m1\u001b[0m\u001b[1;33m,\u001b[0m \u001b[1;36m28\u001b[0m\u001b[1;33m,\u001b[0m \u001b[1;36m28\u001b[0m\u001b[1;33m,\u001b[0m \u001b[1;36m1\u001b[0m\u001b[1;33m)\u001b[0m\u001b[1;33m)\u001b[0m\u001b[1;33m[\u001b[0m\u001b[0mx\u001b[0m\u001b[1;33m]\u001b[0m\u001b[1;33m\u001b[0m\u001b[1;33m\u001b[0m\u001b[0m\n",
      "\u001b[1;31mIndexError\u001b[0m: too many indices for array"
     ]
    },
    {
     "data": {
      "image/png": "[encoded data removed]",
      "text/plain": [
       "<Figure size 432x288 with 12 Axes>"
      ]
     },
     "metadata": {
      "needs_background": "light"
     },
     "output_type": "display_data"
    }
   ],
   "source": [
    "import matplotlib.pyplot as plt\n",
    "f, axarr = plt.subplots(3,4)\n",
    "FIRST_IMAGE=0\n",
    "SECOND_IMAGE=7\n",
    "THIRD_IMAGE=26\n",
    "CONVOLUTION_NUMBER = 1\n",
    "from tensorflow.keras import models\n",
    "layer_outputs = [layer.output for layer in model.layers]\n",
    "activation_model = tf.keras.models.Model(inputs = model.input, outputs = layer_outputs)\n",
    "for x in range(0,4):\n",
    "  f1 = activation_model.predict(test_images[FIRST_IMAGE].reshape(1, 28, 28, 1))[x]\n",
    "  axarr[0,x].imshow(f1[0, : , :, CONVOLUTION_NUMBER], cmap='inferno')\n",
    "  axarr[0,x].grid(False)\n",
    "  f2 = activation_model.predict(test_images[SECOND_IMAGE].reshape(1, 28, 28, 1))[x]\n",
    "  axarr[1,x].imshow(f2[0, : , :, CONVOLUTION_NUMBER], cmap='inferno')\n",
    "  axarr[1,x].grid(False)\n",
    "  f3 = activation_model.predict(test_images[THIRD_IMAGE].reshape(1, 28, 28, 1))[x]\n",
    "  axarr[2,x].imshow(f3[0, : , :, CONVOLUTION_NUMBER], cmap='inferno')\n",
    "  axarr[2,x].grid(False)"
   ]
  },
  {
   "cell_type": "code",
   "execution_count": null,
   "metadata": {},
   "outputs": [],
   "source": []
  }
 ],
 "metadata": {
  "kernelspec": {
   "display_name": "Python 3",
   "language": "python",
   "name": "python3"
  },
  "language_info": {
   "codemirror_mode": {
    "name": "ipython",
    "version": 3
   },
   "file_extension": ".py",
   "mimetype": "text/x-python",
   "name": "python",
   "nbconvert_exporter": "python",
   "pygments_lexer": "ipython3",
   "version": "3.7.4"
  }
 },
 "nbformat": 4,
 "nbformat_minor": 2
}
